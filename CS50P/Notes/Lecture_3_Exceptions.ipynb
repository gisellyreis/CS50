{
  "nbformat": 4,
  "nbformat_minor": 0,
  "metadata": {
    "colab": {
      "provenance": [],
      "authorship_tag": "ABX9TyN3kVQwhmyI1BAxsOUHQzw0",
      "include_colab_link": true
    },
    "kernelspec": {
      "name": "python3",
      "display_name": "Python 3"
    },
    "language_info": {
      "name": "python"
    }
  },
  "cells": [
    {
      "cell_type": "markdown",
      "metadata": {
        "id": "view-in-github",
        "colab_type": "text"
      },
      "source": [
        "<a href=\"https://colab.research.google.com/github/gisellyreis/CS50/blob/main/CS50P/Notes/Lecture_3_Exceptions.ipynb\" target=\"_parent\"><img src=\"https://colab.research.google.com/assets/colab-badge.svg\" alt=\"Open In Colab\"/></a>"
      ]
    },
    {
      "cell_type": "markdown",
      "source": [
        "# Exceptions\n",
        "\n",
        "  Exceptions refer to problems in your code. When something is exceptional in your program it means something has gone wrong that you will need to solve.\n",
        "\n",
        "```\n",
        "print(\"hello, world)\n",
        "\n",
        ">> SyntaxError: unterminated string literal (detected at line 1)\n",
        "```\n",
        "- SyntaxError is a problem with the code that you have typed, your syntax. Is a problem that you've got to go back into your code and solve it.\n",
        "\n",
        "  - unterminated string literal:\n",
        "\n",
        "    unterminated mean that I started something but didn't finished it.\n",
        "\n",
        "    string is a sequence of text.\n",
        "\n",
        "    and literal refers to something that you literally typed.\n",
        "\n",
        "- ValueError\n",
        "\n",
        "```\n",
        "# ask the user for a number\n",
        "x = int(input(\"What's x? \"))\n",
        "\n",
        "print(f\"x is {x}\")\n",
        "\n",
        ">> cat\n",
        ">> ValueError: invalid literal for int() with base 10: 'cat'\n",
        "```\n",
        "- What if the user type something like \"cat\"?\n",
        "\n",
        "  - invalid literal: a literal is something that's been typed in.\n",
        "\n",
        "  - for int: int is the funcion I'm using to convert the user's input to a corresponding integer.  \n",
        "\n",
        "  - base 10: refers to the decimal system.\n",
        "\n",
        "- Ultimately the problem seens to be that I passed \"cat\" to the int function. In those cases we want to write a code with error handling in mind.\n",
        "\n",
        "Whether you want to catch a value error or other types of errors except syntax error, Python has this keyword called **try**.\n",
        "\n",
        "- **try**\n",
        "\n",
        "  If you want to try to do something, you can use this keyword and you can check whether or not somethong exceptional has happened.\n",
        "\n",
        "- **except**\n",
        "\n",
        "   using both try and except I can try todo something except, if somethong goes wrong I can do something else.\n",
        "\n",
        "```\n",
        "try:\n",
        "  x = int(input(\"What's x? \"))\n",
        "  print(f\"x is {x}\")\n",
        "except ValueError:\n",
        "  print(\"x is not an integer\")\n",
        "```\n",
        "\n",
        "- tell Python what I want to d in exceptional cases, when the number or the input from the user is not a number.\n",
        "\n",
        "- because I have **try** on line one and I've indented lines two and three, those are the two lines of code tha I'm trying, except if I see a **ValueError** line five, because it's indented, is what is going to execute in cases of those error.\n",
        "\n",
        "- In the interest of preaching best practices, you should only be \"trying\" to do the one or very few lines of code that can actually raise an execption or fail in some way. In this example \"printing x\" is not going to raise an error.\n",
        "\n",
        "```\n",
        "try:\n",
        "  x = int(input(\"What's x? \"))\n",
        "except ValueError:\n",
        "  print(\"x is not an integer\")\n",
        "\n",
        "print(f\"x is {x}\")\n",
        "\n",
        ">> cat\n",
        ">> NameError: name 'x' is not defined\n",
        "```\n",
        "\n",
        "  - NameError: refers to your code, like you're doing somethisn with the name of a variable that you shouldn't.\n",
        "\n",
        "  - name 'x' is not defined: In this case, beacuse the error is in passing \"cat\" as input to the int function, we're catching the value error, but because the value error is happening on the right of the equal sign, there' no value being copied to the left (x).\n",
        "\n",
        " We can corret this by doing this:\n",
        "\n",
        "- We can **try** to do something, **except** if this goes wrong, but i fnothing goes wrong, **else**, go ahead.\n",
        "\n",
        "```\n",
        "try:\n",
        "  x = int(input(\"What's x? \"))\n",
        "except ValueError:\n",
        "  print(\"x is not an integer\")\n",
        "else:\n",
        "  print(f\"x is {x}\")\n",
        "```\n",
        "\n",
        "  - Now, Python is going to try to execute line two.\n",
        "\n",
        "  - If something goes wrong, it's going to execute lines three and four to handle the error.\n",
        "\n",
        "  - If you try and succeeds, then there is no exception to handle so then execute line six.\n",
        "\n",
        "```\n",
        "while True:\n",
        "  try:\n",
        "    x = int(input(\"What's x? \"))\n",
        "  except ValueError:\n",
        "    print(\"x is not an integer\")\n",
        "  else:\n",
        "    break\n",
        "\n",
        "print(f\"x is {x}\")\n",
        "```\n",
        "\n",
        "- Now the code asks for x forever, if I'm in an infinite loop, until I try and succeed, in this case type an integer number, at which point I break out and then printing out what x is.\n",
        "\n",
        "This code works the same way:\n",
        "```\n",
        "while True:\n",
        "  try:\n",
        "    x = int(input(\"What's x? \"))\n",
        "    break\n",
        "  except ValueError:\n",
        "    print(\"x is not an integer\")\n",
        "\n",
        "print(f\"x is {x}\")\n",
        "```\n",
        "\n",
        "- **pass**\n",
        "\n",
        "  If you want to handle an exception in Python, but you wnat to pass on doing anything with it, so you want to catch it but ignore it, we can add this keyword to our code. So instead of printing out \"x is not an integer\" I can just **pass**.\n",
        "\n",
        "  ```\n",
        "  ...\n",
        "  while True:\n",
        "    try:\n",
        "      x = int(input(\"What's x? \"))\n",
        "      return x\n",
        "    except ValueError:\n",
        "      pass\n",
        "  ...\n",
        "  ```\n",
        "\n",
        "  - **raise**\n",
        "\n",
        "  With this keyword you can raise exceptions yourself.\n"
      ],
      "metadata": {
        "id": "I1oy5KPZCAZb"
      }
    },
    {
      "cell_type": "code",
      "execution_count": null,
      "metadata": {
        "colab": {
          "base_uri": "https://localhost:8080/",
          "height": 106
        },
        "id": "WLVRO_Kf74hK",
        "outputId": "604bd056-141c-44b5-b134-cd14ca1f9f65"
      },
      "outputs": [
        {
          "output_type": "error",
          "ename": "SyntaxError",
          "evalue": "unterminated string literal (detected at line 1) (<ipython-input-1-40c7a828f72a>, line 1)",
          "traceback": [
            "\u001b[0;36m  File \u001b[0;32m\"<ipython-input-1-40c7a828f72a>\"\u001b[0;36m, line \u001b[0;32m1\u001b[0m\n\u001b[0;31m    print(\"hello, world)\u001b[0m\n\u001b[0m          ^\u001b[0m\n\u001b[0;31mSyntaxError\u001b[0m\u001b[0;31m:\u001b[0m unterminated string literal (detected at line 1)\n"
          ]
        }
      ],
      "source": [
        "print(\"hello, world)"
      ]
    },
    {
      "cell_type": "code",
      "source": [
        "# ask the user for a number\n",
        "x = int(input(\"What's x? \"))\n",
        "\n",
        "print(f\"x is {x}\")"
      ],
      "metadata": {
        "colab": {
          "base_uri": "https://localhost:8080/",
          "height": 211
        },
        "id": "8o1e_-nFHLRC",
        "outputId": "c03a48c4-71a5-4529-8ecf-d9835b8188c2"
      },
      "execution_count": null,
      "outputs": [
        {
          "name": "stdout",
          "output_type": "stream",
          "text": [
            "What's x? cat\n"
          ]
        },
        {
          "output_type": "error",
          "ename": "ValueError",
          "evalue": "invalid literal for int() with base 10: 'cat'",
          "traceback": [
            "\u001b[0;31m---------------------------------------------------------------------------\u001b[0m",
            "\u001b[0;31mValueError\u001b[0m                                Traceback (most recent call last)",
            "\u001b[0;32m<ipython-input-4-a6c32455b4cd>\u001b[0m in \u001b[0;36m<cell line: 2>\u001b[0;34m()\u001b[0m\n\u001b[1;32m      1\u001b[0m \u001b[0;31m# ask the user for a number\u001b[0m\u001b[0;34m\u001b[0m\u001b[0;34m\u001b[0m\u001b[0m\n\u001b[0;32m----> 2\u001b[0;31m \u001b[0mx\u001b[0m \u001b[0;34m=\u001b[0m \u001b[0mint\u001b[0m\u001b[0;34m(\u001b[0m\u001b[0minput\u001b[0m\u001b[0;34m(\u001b[0m\u001b[0;34m\"What's x? \"\u001b[0m\u001b[0;34m)\u001b[0m\u001b[0;34m)\u001b[0m\u001b[0;34m\u001b[0m\u001b[0;34m\u001b[0m\u001b[0m\n\u001b[0m\u001b[1;32m      3\u001b[0m \u001b[0;34m\u001b[0m\u001b[0m\n\u001b[1;32m      4\u001b[0m \u001b[0mprint\u001b[0m\u001b[0;34m(\u001b[0m\u001b[0;34mf\"x is {x}\"\u001b[0m\u001b[0;34m)\u001b[0m\u001b[0;34m\u001b[0m\u001b[0;34m\u001b[0m\u001b[0m\n",
            "\u001b[0;31mValueError\u001b[0m: invalid literal for int() with base 10: 'cat'"
          ]
        }
      ]
    },
    {
      "cell_type": "code",
      "source": [
        "try:\n",
        "  x = int(input(\"What's x? \"))\n",
        "  print(f\"x is {x}\")\n",
        "except ValueError:\n",
        "  print(\"x is not an integer\")"
      ],
      "metadata": {
        "colab": {
          "base_uri": "https://localhost:8080/"
        },
        "id": "T30Bic34rNif",
        "outputId": "261d1e13-c786-4aaf-dace-78200e7e1a90"
      },
      "execution_count": 1,
      "outputs": [
        {
          "output_type": "stream",
          "name": "stdout",
          "text": [
            "What's x? cat\n",
            "x is not an integer\n"
          ]
        }
      ]
    },
    {
      "cell_type": "code",
      "source": [
        "try:\n",
        "  x = int(input(\"What's x? \"))\n",
        "except ValueError:\n",
        "  print(\"x is not an integer\")\n",
        "\n",
        "print(f\"x is {x}\")"
      ],
      "metadata": {
        "colab": {
          "base_uri": "https://localhost:8080/",
          "height": 211
        },
        "id": "a37ouCe1wt7g",
        "outputId": "6c445e99-59d3-4afb-ed03-1eb6bb1deddd"
      },
      "execution_count": 2,
      "outputs": [
        {
          "output_type": "stream",
          "name": "stdout",
          "text": [
            "What's x? cat\n",
            "x is not an integer\n"
          ]
        },
        {
          "output_type": "error",
          "ename": "NameError",
          "evalue": "name 'x' is not defined",
          "traceback": [
            "\u001b[0;31m---------------------------------------------------------------------------\u001b[0m",
            "\u001b[0;31mNameError\u001b[0m                                 Traceback (most recent call last)",
            "\u001b[0;32m<ipython-input-2-8d5e3a673831>\u001b[0m in \u001b[0;36m<cell line: 6>\u001b[0;34m()\u001b[0m\n\u001b[1;32m      4\u001b[0m   \u001b[0mprint\u001b[0m\u001b[0;34m(\u001b[0m\u001b[0;34m\"x is not an integer\"\u001b[0m\u001b[0;34m)\u001b[0m\u001b[0;34m\u001b[0m\u001b[0;34m\u001b[0m\u001b[0m\n\u001b[1;32m      5\u001b[0m \u001b[0;34m\u001b[0m\u001b[0m\n\u001b[0;32m----> 6\u001b[0;31m \u001b[0mprint\u001b[0m\u001b[0;34m(\u001b[0m\u001b[0;34mf\"x is {x}\"\u001b[0m\u001b[0;34m)\u001b[0m\u001b[0;34m\u001b[0m\u001b[0;34m\u001b[0m\u001b[0m\n\u001b[0m",
            "\u001b[0;31mNameError\u001b[0m: name 'x' is not defined"
          ]
        }
      ]
    },
    {
      "cell_type": "code",
      "source": [
        "def main():\n",
        "  x = get_int()\n",
        "  print(f\"x is {x}\")\n",
        "\n",
        "def get_int():\n",
        "  while True:\n",
        "    try:\n",
        "      x = int(input(\"What's x? \"))\n",
        "    except ValueError:\n",
        "      print(\"x is not an integer\")\n",
        "    else:\n",
        "      break\n",
        "  return x\n",
        "\n",
        "main()"
      ],
      "metadata": {
        "colab": {
          "base_uri": "https://localhost:8080/"
        },
        "id": "uVu0aj_KzGTN",
        "outputId": "65f86087-f2b3-4adf-b9a8-8943e839ab66"
      },
      "execution_count": 4,
      "outputs": [
        {
          "output_type": "stream",
          "name": "stdout",
          "text": [
            "What's x? 50\n",
            "x is 50\n"
          ]
        }
      ]
    },
    {
      "cell_type": "code",
      "source": [
        "def main():\n",
        "  x = get_int()\n",
        "  print(f\"x is {x}\")\n",
        "\n",
        "def get_int():\n",
        "  while True:\n",
        "    try:\n",
        "      x = int(input(\"What's x? \"))\n",
        "    except ValueError:\n",
        "      print(\"x is not an integer\")\n",
        "    else:\n",
        "      return x\n",
        "\n",
        "main()"
      ],
      "metadata": {
        "id": "Do89pTTw6p72"
      },
      "execution_count": null,
      "outputs": []
    },
    {
      "cell_type": "code",
      "source": [
        "def main():\n",
        "  x = get_int(\"What's x? \")\n",
        "  print(f\"x is {x}\")\n",
        "\n",
        "def get_int(prompt):\n",
        "  while True:\n",
        "    try:\n",
        "      y = int(input(prompt))\n",
        "      return y\n",
        "    except ValueError:\n",
        "      print(\"x is not an integer\")\n",
        "\n",
        "\n",
        "main()"
      ],
      "metadata": {
        "id": "aKLOr4hO9zat"
      },
      "execution_count": null,
      "outputs": []
    }
  ]
}