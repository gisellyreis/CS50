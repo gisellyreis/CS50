{
  "nbformat": 4,
  "nbformat_minor": 0,
  "metadata": {
    "colab": {
      "provenance": [],
      "authorship_tag": "ABX9TyM0YkwosAwxpYijkA7nXIkh",
      "include_colab_link": true
    },
    "kernelspec": {
      "name": "python3",
      "display_name": "Python 3"
    },
    "language_info": {
      "name": "python"
    }
  },
  "cells": [
    {
      "cell_type": "markdown",
      "metadata": {
        "id": "view-in-github",
        "colab_type": "text"
      },
      "source": [
        "<a href=\"https://colab.research.google.com/github/gisellyreis/CS50/blob/main/CS50P/Notes/Lecture_2_Loops.ipynb\" target=\"_parent\"><img src=\"https://colab.research.google.com/assets/colab-badge.svg\" alt=\"Open In Colab\"/></a>"
      ]
    },
    {
      "cell_type": "markdown",
      "source": [
        "## Loops"
      ],
      "metadata": {
        "id": "01zF_qjB9Rx1"
      }
    },
    {
      "cell_type": "markdown",
      "source": [
        "- cat.py\n",
        "\n",
        "```\n",
        "print(\"meaw\")\n",
        "print(\"meaw\")\n",
        "print(\"meaw\")\n",
        "```\n",
        "\n",
        "* while\n",
        "\n",
        "  is one way to express a loop, that is a block of code that's going to do something again and again and again...as many times as we want.\n",
        "\n",
        "  While rather leaves to us the particulars of how we express ourselves to do something again and again.\n",
        "\n",
        "  - In coding a **question** is in the form of a **Boolean expression** i.e. a question to which the answer is **true** or **false**.\n",
        "\n",
        "- steps:\n",
        "\n",
        "1. iniciate a variable called **i** for integer, but I can call it anything I want and initialize it to 3.\n",
        "\n",
        "2. then I use while and I ask a **question**, the answer to which must be true or false. Say while i does not equal 0, do the following:\n",
        "\n",
        "3. show the text \"meow\".\n",
        "\n",
        "4. be careful not to run the code at this point! If I'm initializing i to 3-- that is, setting it equal to 3, then ask the question, while i does not equal 0, it is going to be true, print meow\n",
        "\n",
        "```\n",
        "i = 3\n",
        "while i != 0:\n",
        "  print(\"meow\")\n",
        "```\n",
        "\n",
        "The way a while loop works is that the Python interpreter keeps going back and forth.\n",
        "\n",
        "It goes from line 1 to line 2, then to line 3 and then it goes back to line 2 to ask the question again, if the answer is still true, it goes to line 3. It then goes back to line 2. If the answer i sstill true, it goes back to line 3.\n",
        "So, if you're never changing the value of i, it's always 3! You're going to be looping forever.\n",
        "\n",
        "- **Tip:** If you ever do that and you find yourself in an accidental infinite loop, hitting **Control-C** in the terminal, for cancel or interrup, is going to stop the code.\n",
        "\n",
        "So, to fix the code so that a loop won't happen. update i to equal whatever the current value is minus 1. This should eventually hit 0, at which point the answer to the question will now be false!\n",
        "\n",
        "```\n",
        "i = 3\n",
        "while i != 0:\n",
        "  print(\"meow\")\n",
        "  i = i - 1\n",
        "```\n",
        "- But what if I wanted to count up instead of down?\n",
        "\n",
        "```\n",
        "i = 1\n",
        "while i <= 3:\n",
        "  print(\"meow\")\n",
        "  i = i + 1\n",
        "```\n",
        "Now we'll count from 1 up through 3, each time printing meow. So now, I also need to change this to be i equals i plus 1.\n",
        "\n",
        "In Programming languages it's a good thing to start counting from 0 instead of counting from 1. Now I have to start at 0 but go up to not through 3, otherwise we would print 'meaw' four times instead of 3.\n",
        "\n",
        "A more succint way to express i equal i plus 1 is **i += 1**.\n",
        "```\n",
        "i = 0\n",
        "while i < 3:\n",
        "  print(\"meow\")\n",
        "  i += 1\n",
        "```\n",
        "\n",
        "* for\n",
        "\n",
        "  Is a different typr of loop. The way for loop works is that it allows you to iterate over a list of items. If you want a variable like i, a number, and you know in advance how many times want this loop to execute, we'll just specify what is you want i to take on as values explicitly.\n",
        "\n",
        "  * list\n",
        "\n",
        "    Is another type of data. A list of things in the real world is a list of things in Python. It's a way of containing multiple values all in the same place, in the same variable.\n",
        "\n",
        "    **Square brackets [ ] represent a list.**\n",
        "  \n",
        "  On each iteration of this loop-- that is, on each execution of this loop again and again, I want to print out 'meow'.\n",
        "\n",
        "```\n",
        "for i in [0, 1, 2]:\n",
        "  print(\"meow\")\n",
        "```\n",
        "\n",
        "  1. In this loop, i will be automatically initialized to be 0, then 'meow' will be printed.\n",
        "\n",
        "  2. Then Python would automatically update i to equal 1, the 'meow' will be printed.\n",
        "\n",
        "  3. Then Python will automatically update i to be 2 and 'meow' will be printed.\n",
        "\n",
        "  4. And because that's it for the values in the list, Python will stop.\n",
        "\n",
        "\n",
        "- One way to improve the design is to use a functionto give you the list you want.\n",
        "\n",
        "  - range(arg)\n",
        "\n",
        "  retuns to a range of values. It expects as input at least one argument, and that number is going to be the number of values you want back. Those values are going to start at ** 0** up to **arg - 1**.\n",
        "  \n",
        "```\n",
        "for i in range(3):\n",
        "  print(\"meow\")\n",
        "```\n",
        "\n",
        "- Let's ask the user how many times this cat should meow.\n",
        "\n",
        "1. How to get a number from the user?\n",
        "In this eexample it has to be a positive number.\n",
        "\n",
        "When you want to get user iput that matches a certain expectation, e.g. it's all positive, it's all negative, you can just say **while true**. But then we need a way of breaking out of the loop when we have the number we want.\n",
        "\n",
        "- **continue** makes the code to stay in the loop recall the input function and test it again.\n",
        "- **break** will do just that. breack out of the loop.\n",
        "\n",
        "```\n",
        "while True:\n",
        "  n = int(input(\"What's n? \"))\n",
        "  if n < 0:\n",
        "    continue\n",
        "  else:\n",
        "    break\n",
        "```\n",
        "\n",
        "or we can just say: **if n is greater than 0, go ahead and break**.\n",
        "\n",
        "```\n",
        "while True:\n",
        "  n = int(input(\"What's n? \"))\n",
        "  if n > 0:\n",
        "    break\n",
        "\n",
        "for i in range(n):\n",
        "  print(\"meow\")\n",
        "```\n",
        "\n",
        "* Validating Input\n",
        "\n",
        "- **return** it's a method of not just break out of a block of code, but also to return a value in code (hands back an actual value to the user).\n",
        "\n",
        "- **list**\n",
        "\n",
        "  A way to express more precisely which value do I want from the list is to use square brackets with the position the value you want is in. If you have a variable, e.g. students, and you want to go inside of the variableand get a specific value, you use squaer brackets using numbers inside that represent the index (position) of that value. The first item in a list is at position 0, the second item is at position 1 and so on.\n",
        "\n",
        "```\n",
        "students = [\"Hermione\", \"Harry\", \"Ron\"]\n",
        "\n",
        "print(students[0])\n",
        "print(students[1])\n",
        "print(students[2])\n",
        "```\n",
        "\n",
        "We can use a loop to do this automatically without having to say the exact index of each value.\n",
        "```\n",
        "students = [\"Hermione\", \"Harry\", \"Ron\"]\n",
        "\n",
        "for student in students:\n",
        "  print(student)\n",
        "```\n",
        "\n",
        "- Suppose you want to iterate using numbers, you can do as follows:\n",
        "\n",
        "```\n",
        "students = [\"Hermione\", \"Harry\", \"Ron\"]\n",
        "\n",
        "for i in students:\n",
        "  print(student)\n",
        "```\n",
        "\n",
        "- **len** it's a function that tell you the length of a list.\n",
        "\n",
        "In our example, len(students) will return the number of \"students\"/values in the list, in this case 3.\n",
        "\n",
        "So we can first get the length of the students list and pass it as the argument to range.\n",
        "\n",
        "```\n",
        "students = [\"Hermione\", \"Harry\", \"Ron\"]\n",
        "\n",
        "for i in range(len(students)):\n",
        "  print(students[i])\n",
        "```\n",
        "\n",
        "- **dict** short for dictionaries, are a data structure that allows you to associate one value with another. We describe those are keys and values.\n",
        "\n",
        "Suppose that we want to keep track of who is in what house at Hogwarts.\n",
        "\n",
        "![image.png](data:image/png;base64,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)\n",
        "\n",
        "- Using lists alone:\n",
        "\n",
        "```\n",
        "students = [\"Hermione\", \"Harry\", \"Ron\", \"Draco\"]\n",
        "houses = [\"Gryffindor\", \"Gryffindor\", \"Gryffindor\", \"Slytherin\"]\n",
        "```\n",
        "\n",
        "We could agree amongst ourselves that whoever is first in the students variable lives in the first value in houses. Whoever is second in students lives in the second house and so on.\n",
        "\n",
        "- Using dictionary:\n",
        "Instead of using square brackets, we're going to use curly braces for dictionaries. **students = {}** is an empty dictionary.\n",
        "\n",
        "```\n",
        "students = {\n",
        "  \"Hermione\": \"Gryffindor\",\n",
        "  \"Harry\": \"Gryffindor\",\n",
        "  \"Ron\": \"Gryffindor\",\n",
        "  \"Draco\": \"Slytherin\"\n",
        "}\n",
        "\n",
        "# Hermione is the key/index and Gryffindor is the value - print the house of the student\n",
        "print(students[\"Hermione\"])\n",
        "print(students[\"Draco\"])\n",
        "```\n",
        "\n",
        "- When we use a for loop in Python to iterate over a dictionary, it iterates over all of the keys.\n",
        "\n",
        "```\n",
        "students = {\n",
        "  \"Hermione\": \"Gryffindor\",\n",
        "  \"Harry\": \"Gryffindor\",\n",
        "  \"Ron\": \"Gryffindor\",\n",
        "  \"Draco\": \"Slytherin\"\n",
        "}\n",
        "\n",
        "for student in students:\n",
        "  print(student)\n",
        "```\n",
        "\n",
        "- print the student's name (the key) and the house (the value)\n",
        "\n",
        "```\n",
        "students = {\n",
        "  \"Hermione\": \"Gryffindor\",\n",
        "  \"Harry\": \"Gryffindor\",\n",
        "  \"Ron\": \"Gryffindor\",\n",
        "  \"Draco\": \"Slytherin\"\n",
        "}\n",
        "\n",
        "for student in students:\n",
        "  print(student, students[student], sep=\", \")\n",
        "```\n",
        "\n",
        "- What if we have more information about each of our students? Suppose that every student at Hogwarts has a name, a house and also a patronus.\n",
        "\n",
        "![image.png](data:image/png;base64,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)\n",
        "\n",
        "```\n",
        "# print all the values in the key \"name\", the value of the key \"house\"\n",
        "# and the value of the key \"patronus\" of each dictionary\n",
        "\n",
        "students = [\n",
        "  {\"name\": \"Hermione\", \"house\": \"Gryffindor\", \"patronus\": \"Otter\"},\n",
        "  {\"name\": \"Harry\", \"house\": \"Gryffindor\", \"patronus\": \"Stag\"},\n",
        "  {\"name\": \"Ron\", \"house\": \"Gryffindor\", \"patronus\": \"Jack Russell terrir\"},\n",
        "  {\"name\": \"Draco\", \"house\": \"Slytherin\", \"patronus\": None}\n",
        "]\n",
        "\n",
        "for student in students:\n",
        "  print(student[\"name\"], student[\"house\"], student[\"patronus\"], sep=\", \")\n",
        "```\n",
        "\n",
        "- **None** a special keyword in Python that represents the absense of a value.\n",
        "\n",
        "- All of the output for every example thus far, starts at the top. From top to botton, left to right.\n",
        "So to generate our square, we have to think the same way.\n",
        "\n",
        "```\n",
        "def main():\n",
        "  print_square(3)\n",
        "\n",
        "def print_square(size):\n",
        "  # the outer loop represents each of the rows\n",
        "  # for each row in square\n",
        "  for i in range(size):\n",
        "    # the inner loop represents each of the columns\n",
        "    # for each brick in row\n",
        "    for j in range(size):\n",
        "      # print brick\n",
        "      print(\"#\", end=\"\")\n",
        "    # move to the next line\n",
        "    print()\n",
        "\n",
        "main()\n",
        "```\n",
        "\n",
        "\n"
      ],
      "metadata": {
        "id": "s7HGfVNnbuUe"
      }
    },
    {
      "cell_type": "code",
      "execution_count": null,
      "metadata": {
        "id": "vzVWibrE9GlZ",
        "colab": {
          "base_uri": "https://localhost:8080/"
        },
        "outputId": "6bf8d753-b4c7-4cc7-8623-4f443f62ef10"
      },
      "outputs": [
        {
          "output_type": "stream",
          "name": "stdout",
          "text": [
            "Reading package lists... Done\n",
            "Building dependency tree... Done\n",
            "Reading state information... Done\n",
            "graphviz is already the newest version (2.42.2-6).\n",
            "0 upgraded, 0 newly installed, 0 to remove and 45 not upgraded.\n",
            "Requirement already satisfied: graphviz in /usr/local/lib/python3.10/dist-packages (0.20.3)\n"
          ]
        }
      ],
      "source": [
        "!apt-get install graphviz\n",
        "!pip install graphviz"
      ]
    },
    {
      "cell_type": "code",
      "source": [
        "from graphviz import Digraph\n",
        "from IPython.display import Image, display\n",
        "\n",
        "# Create a Digraph object\n",
        "dot = Digraph()\n",
        "\n",
        "# Set the graph attributes\n",
        "dot.attr(size='10,5')  # Increase the width and height of the graph\n",
        "dot.attr(label='Flowchart of Print Statements', fontsize='20', labelloc='t')\n",
        "\n",
        "# Add nodes and edges\n",
        "dot.node('A', 'Start')\n",
        "dot.node('B', '\"meaw\"')\n",
        "dot.node('C', '\"meaw\"')\n",
        "dot.node('D', '\"meaw\"')\n",
        "dot.node('E', 'Stop')\n",
        "\n",
        "dot.edge('A', 'B')\n",
        "dot.edge('B', 'C')\n",
        "dot.edge('C', 'D')\n",
        "dot.edge('D', 'E')\n",
        "\n",
        "# Render the graph\n",
        "dot.render('flowchart', format='png')\n",
        "\n",
        "# Display the image in the notebook\n",
        "display(Image('flowchart.png'))\n"
      ],
      "metadata": {
        "colab": {
          "base_uri": "https://localhost:8080/",
          "height": 497
        },
        "id": "RESXqrEtciD3",
        "outputId": "2fefdb91-a1b7-4823-93ae-6c3a89d55740"
      },
      "execution_count": null,
      "outputs": [
        {
          "output_type": "display_data",
          "data": {
            "image/png": "[encoded data removed]",
            "text/plain": [
              "<IPython.core.display.Image object>"
            ]
          },
          "metadata": {}
        }
      ]
    },
    {
      "cell_type": "code",
      "source": [
        "from graphviz import Digraph\n",
        "from IPython.display import Image, display\n",
        "\n",
        "# Create a Digraph object\n",
        "dot = Digraph()\n",
        "\n",
        "# Set the graph attributes\n",
        "dot.attr(size='10,5')  # Increase the width and height of the graph\n",
        "dot.attr(label='Flowchart of While Loop', fontsize='20', labelloc='t')\n",
        "\n",
        "# Add nodes and edges\n",
        "dot.node('A', 'Start')\n",
        "dot.node('B', 'i = 3')\n",
        "dot.node('C', 'i != 0?')\n",
        "dot.node('D', 'print(\"meow\")')\n",
        "dot.node('E', 'i = i - 1')\n",
        "dot.node('F', 'Stop')\n",
        "\n",
        "dot.edge('A', 'B')\n",
        "dot.edge('B', 'C')\n",
        "dot.edge('C', 'D', label='True')\n",
        "dot.edge('D', 'E')\n",
        "dot.edge('E', 'C')\n",
        "dot.edge('C', 'F', label='False')\n",
        "\n",
        "# Render the graph\n",
        "dot.render('flowchart', format='png')\n",
        "\n",
        "# Display the image in the notebook\n",
        "display(Image('flowchart.png'))\n"
      ],
      "metadata": {
        "colab": {
          "base_uri": "https://localhost:8080/",
          "height": 497
        },
        "id": "GqtT-US_TCT5",
        "outputId": "94c8bdfe-24fc-4082-e7c5-746124e1c532"
      },
      "execution_count": null,
      "outputs": [
        {
          "output_type": "display_data",
          "data": {
            "image/png": "[encoded data removed]",
            "text/plain": [
              "<IPython.core.display.Image object>"
            ]
          },
          "metadata": {}
        }
      ]
    },
    {
      "cell_type": "markdown",
      "source": [
        "### Validating Input"
      ],
      "metadata": {
        "id": "FbwfwIXgMhF0"
      }
    },
    {
      "cell_type": "code",
      "source": [
        "def main():\n",
        "  number = get_number()\n",
        "  meow(number)\n",
        "\n",
        "def get_number():\n",
        "  while True:\n",
        "    n = int(input(\"What's n? \"))\n",
        "    if n > 0:\n",
        "      return n\n",
        "\n",
        "def meow(n):\n",
        "  for i in range(n):\n",
        "    print(\"meow\")\n",
        "\n",
        "main()"
      ],
      "metadata": {
        "colab": {
          "base_uri": "https://localhost:8080/"
        },
        "id": "mzdqSIItLMqd",
        "outputId": "c4421206-4450-44ab-b600-d7714c2d8375"
      },
      "execution_count": null,
      "outputs": [
        {
          "output_type": "stream",
          "name": "stdout",
          "text": [
            "What's n? 2\n",
            "meow\n",
            "meow\n"
          ]
        }
      ]
    },
    {
      "cell_type": "code",
      "source": [
        "# iterate over all of the keys in the students dictionary\n",
        "\n",
        "students = {\n",
        "  \"Hermione\": \"Gryffindor\",\n",
        "  \"Harry\": \"Gryffindor\",\n",
        "  \"Ron\": \"Gryffindor\",\n",
        "  \"Draco\": \"Slytherin\"\n",
        "}\n",
        "\n",
        "for student in students:\n",
        "  print(student)"
      ],
      "metadata": {
        "colab": {
          "base_uri": "https://localhost:8080/"
        },
        "id": "P6sI1KDMydT0",
        "outputId": "1f863c7c-cd43-4b01-d992-faaef65afae3"
      },
      "execution_count": 1,
      "outputs": [
        {
          "output_type": "stream",
          "name": "stdout",
          "text": [
            "Hermione\n",
            "Harry\n",
            "Ron\n",
            "Draco\n"
          ]
        }
      ]
    },
    {
      "cell_type": "code",
      "source": [
        "# print the student's name (the key) and the house (the value)\n",
        "\n",
        "students = {\n",
        "  \"Hermione\": \"Gryffindor\",\n",
        "  \"Harry\": \"Gryffindor\",\n",
        "  \"Ron\": \"Gryffindor\",\n",
        "  \"Draco\": \"Slytherin\"\n",
        "}\n",
        "\n",
        "for student in students:\n",
        "  print(student, students[student], sep=\", \")"
      ],
      "metadata": {
        "colab": {
          "base_uri": "https://localhost:8080/"
        },
        "id": "PrloMQm1yq8i",
        "outputId": "0d3c17a6-f600-4b71-b073-8dd75b27daba"
      },
      "execution_count": 3,
      "outputs": [
        {
          "output_type": "stream",
          "name": "stdout",
          "text": [
            "Hermione, Gryffindor\n",
            "Harry, Gryffindor\n",
            "Ron, Gryffindor\n",
            "Draco, Slytherin\n"
          ]
        }
      ]
    },
    {
      "cell_type": "code",
      "source": [
        "# print all the values in the key \"name\" of each dictionary\n",
        "students = [\n",
        "  {\"name\": \"Hermione\", \"house\": \"Gryffindor\", \"patronus\": \"Otter\"},\n",
        "  {\"name\": \"Harry\", \"house\": \"Gryffindor\", \"patronus\": \"Stag\"},\n",
        "  {\"name\": \"Ron\", \"house\": \"Gryffindor\", \"patronus\": \"Jack Russell terrir\"},\n",
        "  {\"name\": \"Draco\", \"house\": \"Slytherin\", \"patronus\": None}\n",
        "]\n",
        "\n",
        "for student in students:\n",
        "  print(student[\"name\"])"
      ],
      "metadata": {
        "colab": {
          "base_uri": "https://localhost:8080/"
        },
        "id": "_L_F3bSl5ekd",
        "outputId": "1c8fe547-e590-4465-aed9-e052c2267604"
      },
      "execution_count": 4,
      "outputs": [
        {
          "output_type": "stream",
          "name": "stdout",
          "text": [
            "Hermione\n",
            "Harry\n",
            "Ron\n",
            "Draco\n"
          ]
        }
      ]
    },
    {
      "cell_type": "code",
      "source": [
        "# print all the values in the key \"name\" and the value of the key \"house\"\n",
        "# of each dictionary\n",
        "students = [\n",
        "  {\"name\": \"Hermione\", \"house\": \"Gryffindor\", \"patronus\": \"Otter\"},\n",
        "  {\"name\": \"Harry\", \"house\": \"Gryffindor\", \"patronus\": \"Stag\"},\n",
        "  {\"name\": \"Ron\", \"house\": \"Gryffindor\", \"patronus\": \"Jack Russell terrir\"},\n",
        "  {\"name\": \"Draco\", \"house\": \"Slytherin\", \"patronus\": None}\n",
        "]\n",
        "\n",
        "for student in students:\n",
        "  print(student[\"name\"], student[\"house\"], sep=\", \")"
      ],
      "metadata": {
        "colab": {
          "base_uri": "https://localhost:8080/"
        },
        "id": "LClfTtkn5_mr",
        "outputId": "24b6cc88-9a58-4c99-d6f1-0f6875e64ba6"
      },
      "execution_count": 5,
      "outputs": [
        {
          "output_type": "stream",
          "name": "stdout",
          "text": [
            "Hermione, Gryffindor\n",
            "Harry, Gryffindor\n",
            "Ron, Gryffindor\n",
            "Draco, Slytherin\n"
          ]
        }
      ]
    },
    {
      "cell_type": "code",
      "source": [
        "# print all the values in the key \"name\", the value of the key \"house\"\n",
        "# and the value of the key \"patronus\" of each dictionary\n",
        "students = [\n",
        "  {\"name\": \"Hermione\", \"house\": \"Gryffindor\", \"patronus\": \"Otter\"},\n",
        "  {\"name\": \"Harry\", \"house\": \"Gryffindor\", \"patronus\": \"Stag\"},\n",
        "  {\"name\": \"Ron\", \"house\": \"Gryffindor\", \"patronus\": \"Jack Russell terrir\"},\n",
        "  {\"name\": \"Draco\", \"house\": \"Slytherin\", \"patronus\": None}\n",
        "]\n",
        "\n",
        "for student in students:\n",
        "  print(student[\"name\"], student[\"house\"], student[\"patronus\"], sep=\", \")"
      ],
      "metadata": {
        "colab": {
          "base_uri": "https://localhost:8080/"
        },
        "id": "rsUduCW06TQA",
        "outputId": "4765f0fc-9d68-4c67-969a-c8f0c2695b13"
      },
      "execution_count": 6,
      "outputs": [
        {
          "output_type": "stream",
          "name": "stdout",
          "text": [
            "Hermione, Gryffindor, Otter\n",
            "Harry, Gryffindor, Stag\n",
            "Ron, Gryffindor, Jack Russell terrir\n",
            "Draco, Slytherin, None\n"
          ]
        }
      ]
    },
    {
      "cell_type": "code",
      "source": [
        "def main():\n",
        "  print_column(3)\n",
        "  print_row(4)\n",
        "\n",
        "def print_column(height):\n",
        "  for i in range(height):\n",
        "    print(\"#\")\n",
        "\n",
        "def print_row(width):\n",
        "  print(\"#\" * width)\n",
        "\n",
        "main()"
      ],
      "metadata": {
        "colab": {
          "base_uri": "https://localhost:8080/"
        },
        "id": "4Gv__lt87Si4",
        "outputId": "b5af472a-9b8d-4e7f-ae4d-a87bf41c94b2"
      },
      "execution_count": 7,
      "outputs": [
        {
          "output_type": "stream",
          "name": "stdout",
          "text": [
            "#\n",
            "#\n",
            "#\n",
            "####\n"
          ]
        }
      ]
    },
    {
      "cell_type": "code",
      "source": [
        "def main():\n",
        "  print_square(3)\n",
        "\n",
        "def print_square(size):\n",
        "  # the outer loop represents each of the rows\n",
        "  # for each row in square\n",
        "  for i in range(size):\n",
        "    # the inner loop represents each of the columns\n",
        "    # for each brick in row\n",
        "    for j in range(size):\n",
        "      # print brick\n",
        "      print(\"#\", end=\"\")\n",
        "    # move to the next line\n",
        "    print()\n",
        "\n",
        "main()"
      ],
      "metadata": {
        "colab": {
          "base_uri": "https://localhost:8080/"
        },
        "id": "TBxwayA985YL",
        "outputId": "c3196675-b801-4b15-adfe-d57361e8c3a3"
      },
      "execution_count": 8,
      "outputs": [
        {
          "output_type": "stream",
          "name": "stdout",
          "text": [
            "###\n",
            "###\n",
            "###\n"
          ]
        }
      ]
    }
  ]
}