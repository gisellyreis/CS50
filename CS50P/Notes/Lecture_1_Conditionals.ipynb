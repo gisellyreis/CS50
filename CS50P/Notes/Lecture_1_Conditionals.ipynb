{
  "nbformat": 4,
  "nbformat_minor": 0,
  "metadata": {
    "colab": {
      "provenance": [],
      "authorship_tag": "ABX9TyPVmU/hcoBPkKWQY8hj29k/",
      "include_colab_link": true
    },
    "kernelspec": {
      "name": "python3",
      "display_name": "Python 3"
    },
    "language_info": {
      "name": "python"
    }
  },
  "cells": [
    {
      "cell_type": "markdown",
      "metadata": {
        "id": "view-in-github",
        "colab_type": "text"
      },
      "source": [
        "<a href=\"https://colab.research.google.com/github/gisellyreis/CS50/blob/main/CS50P/Notes/Lecture_1_Conditionals.ipynb\" target=\"_parent\"><img src=\"https://colab.research.google.com/assets/colab-badge.svg\" alt=\"Open In Colab\"/></a>"
      ]
    },
    {
      "cell_type": "markdown",
      "source": [
        "## Conditionals\n",
        "\n",
        "* Symbols you ca use in Python to ask questions:\n",
        "\n",
        "  ```\n",
        "  > greater than\n",
        "  >= greater than or equal to\n",
        "  < less than\n",
        "  <= less than or equal to\n",
        "  == equal to\n",
        "  != not equal to\n",
        "```\n",
        "  * the exclamation point followed by an equal sign, means not equal to some value next to it.\n",
        "\n",
        "* if\n",
        "\n",
        "  you can ask questions in |Python code along the lines of \"if the answer to this question is true, then go ahead and execute this code for me.\"\n",
        "\n",
        "* compare.py\n",
        "\n",
        "```\n",
        "x = int(input(\"what's x? \"))\n",
        "y = int(input(\"what's y? \"))\n",
        "\n",
        "if x < y:\n",
        "   print(\"x is less than y\")\n",
        "if x > y:\n",
        "   print(\"x is greater than y\")\n",
        "if x == y:\n",
        "   print(\"x is equal to y\")\n",
        "```\n",
        "x < y is called a boolean expression. It is simply a quetion that has a yes or no answer, or technically, true or false answer.\n",
        "\n",
        "The indentation is what tells Python that line five should only be executed if the answer to line four's question is true.\n",
        "\n",
        "* elif\n",
        "\n",
        "  is a conjunction of else if. allows us to ask a question that takes into account whether or not a previous question had a true or false answer.\n",
        "\n",
        "  instead of asking if, if, if, let's not keep asking questions once we get back a true answer. we're only going to keep asking if we haven't gotten a true answer.\n",
        "\n",
        "```\n",
        "x = int(input(\"what's x? \"))\n",
        "y = int(input(\"what's y? \"))\n",
        "\n",
        "if x < y:\n",
        "  print(\"x is less than y\")\n",
        "elif x > y:\n",
        "  print(\"x is greater than y\")\n",
        "elif x == y:\n",
        "  print(\"x is equal to y\")\n",
        "```\n",
        "* else\n",
        "\n",
        "  is a \"catch-all\" final line of code that says \"if none of the other options is true, just assume that x is equal to y\".\n",
        "\n",
        "```\n",
        "x = int(input(\"what's x? \"))\n",
        "y = int(input(\"what's y? \"))\n",
        "\n",
        "if x < y:\n",
        "  print(\"x is less than y\")\n",
        "elif x > y:\n",
        "  print(\"x is greater than y\")\n",
        "else:\n",
        "  print(\"x is equal to y\")\n",
        "```\n",
        "\n",
        "* or\n",
        "\n",
        "  just like in english, you can ask this question **or** this other question.\n",
        "\n",
        "  let's try to determine is **x equal to y or not**!\n",
        "\n",
        "```\n",
        "x = int(input(\"what's x? \"))\n",
        "y = int(input(\"what's y? \"))\n",
        "\n",
        "if x < y or x > y:\n",
        "  print(\"x is not equal to y\")\n",
        "else:\n",
        "  print(\"x is equal to y\")\n",
        "```\n",
        "\n",
        "Ex.:\n",
        "\n",
        "case 1: x = 1, y = 2 \\\n",
        "then x < y we follow the True arrow and say **\"x is not equal to y\"** and stop.\n",
        "\n",
        "case 2: x = 2, y = 1 \\\n",
        "then the answer to x < y (first question) is false; \\\n",
        "then we go to x > y because of the **or**, in this case is true, so we can reuse the same print() function, same block of code and say **\"x is not equal to y\"** and then stop.\n",
        "\n",
        "case 3: x is not less than y, and x is not greater than y, it mmust be the case that **\"x is equals y\"**, we don't even need to ask, we can just print the message and stop.\n",
        "\n",
        "\n",
        "* If all you care about is **\"is it equal or not\"**, we can just ask that:\n",
        "\n",
        "```\n",
        "x = int(input(\"what's x? \"))\n",
        "y = int(input(\"what's y? \"))\n",
        "\n",
        "if x != y:\n",
        "  print(\"x is not equal to y\")\n",
        "else:\n",
        "  print(\"x is equal to y\")\n",
        "```\n",
        "\n",
        "We could invert this if we want, test if **is equal** first.\n",
        "```\n",
        "if x == y:\n",
        "  print(\"x is equal to y\")\n",
        "else:\n",
        "  print(\"x is not equal to y\")\n",
        "```\n",
        "\n",
        "* and\n",
        "\n",
        "  combine additional thoughts. a conjuction of one or more questions that might want to ask at once.\n",
        "\n",
        "  - grade.py\n",
        "\n",
        "```\n",
        "score = int(input(\"Score: \"))\n",
        "\n",
        "if score >= 90 and score <= 100:\n",
        "  print(\"Grade: A\")\n",
        "elif score >= 80 and score < 90:\n",
        "  print(\"Grade: B\")\n",
        "elif score >= 70 and score < 80:\n",
        "  print(\"Grade: C\")\n",
        "elif score >= 60 and score < 70:\n",
        "  print(\"Grade: D\")\n",
        "else:\n",
        "  print(\"Grade: F\")\n",
        "```\n",
        "\n",
        "* parity.py - the number is even or odd\n",
        "\n",
        "% represents the module operator, we use it to calculate the remainder when dividing one number by another.\n",
        "\n",
        "```\n",
        "x = int(input(\"What's x? \"))\n",
        "\n",
        "if x % 2 == 0:\n",
        "  print(\"Even\")\n",
        "else:\n",
        "  print(\"Odd\")\n",
        "```\n",
        "\n",
        "- what does it mean for a number to be even? is a number that can be \"cleanly\" divided by two e.g. if we divide a number by 2 the rest/remainder should be 0.\n",
        "\n",
        "* bool\n",
        "\n",
        "is a type of data in Python for a boolean value (True or False)\n",
        "\n",
        "```\n",
        "def main():\n",
        "  x = int(input(\"What's x? \"))\n",
        "  if is_even(x):\n",
        "    print(\"Even\")\n",
        "  else:\n",
        "    print(\"Odd\")\n",
        "\n",
        "def is_even(n):\n",
        "  if n % 2 == 0:\n",
        "    return True\n",
        "  else:\n",
        "    return False\n",
        "\n",
        "main()\n",
        "```\n",
        "- In Python we can collapse this into just one line.\n",
        "\n",
        "```\n",
        "...\n",
        "def is_even(n):\n",
        "  return True if n % 2 == 0 else False\n",
        "...\n",
        "```\n",
        "- Note that **n % 2 == 0** is a boolean expression, e.i. it returns True or False. If your boolean expression itself has a true or false answer, just return the value of your own boolean expression.\n",
        "\n",
        "```\n",
        "...\n",
        "def is_even(n):\n",
        "  return n % 2 == 0\n",
        "...\n",
        "```\n",
        "\n",
        "- Another syntax that you can use to implement the same idea of a conditional , whereby you do something optionally based on the answer to some boolean expression is:\n",
        "\n",
        "* match\n",
        "\n",
        "  - house.py\n",
        "\n",
        "```\n",
        "name = input(\"What's your name? \")\n",
        "\n",
        "match name:\n",
        "  case \"Harry\":\n",
        "    print(\"Gryffindor\")\n",
        "  case \"Hermione\":\n",
        "    print(\"Gryffindor\")\n",
        "  case \"Ron\":\n",
        "    print(\"Gryffindor\")\n",
        "  case \"Draco\":\n",
        "    print(\"Slytherin\")\n",
        "  case _: # mean to say whatever case has not yet been handled print out \"Who?\"\n",
        "    print(\"Who?\")\n",
        "```"
      ],
      "metadata": {
        "id": "bcYyrCAd2091"
      }
    },
    {
      "cell_type": "code",
      "source": [
        "!apt-get install graphviz\n",
        "!pip install graphviz"
      ],
      "metadata": {
        "colab": {
          "base_uri": "https://localhost:8080/"
        },
        "id": "U00FjmBsRcdC",
        "outputId": "73491f8e-2491-48ec-af17-cf12a645851d"
      },
      "execution_count": null,
      "outputs": [
        {
          "output_type": "stream",
          "name": "stdout",
          "text": [
            "Reading package lists... Done\n",
            "Building dependency tree... Done\n",
            "Reading state information... Done\n",
            "graphviz is already the newest version (2.42.2-6).\n",
            "0 upgraded, 0 newly installed, 0 to remove and 45 not upgraded.\n",
            "Requirement already satisfied: graphviz in /usr/local/lib/python3.10/dist-packages (0.20.3)\n"
          ]
        }
      ]
    },
    {
      "cell_type": "code",
      "execution_count": null,
      "metadata": {
        "id": "2CQZmnHqMPED"
      },
      "outputs": [],
      "source": [
        "x = int(input(\"what's x? \"))\n",
        "y = int(input(\"what's y? \"))\n",
        "\n",
        "if x < y:\n",
        "   print(\"x is less than y\")\n",
        "if x > y:\n",
        "   print(\"x is greater than y\")\n",
        "if x == y:\n",
        "   print(\"x is equal to y\")"
      ]
    },
    {
      "cell_type": "code",
      "source": [
        "from graphviz import Digraph\n",
        "from IPython.display import Image\n",
        "\n",
        "# Create a Digraph object\n",
        "dot = Digraph()\n",
        "\n",
        "dot.attr(label='Flowchart of Conditional OR Statement', fontsize='20', labelloc='t')\n",
        "\n",
        "# Add nodes and edges\n",
        "dot.node('A', 'Start')\n",
        "dot.node('B', 'x < y')\n",
        "dot.node('C', 'x > y')\n",
        "dot.node('D', 'x is not equal to y')\n",
        "dot.node('E', 'x is equal to y')\n",
        "dot.node('F', 'Stop')\n",
        "\n",
        "dot.edge('A', 'B')\n",
        "dot.edge('B', 'D', label='True')\n",
        "dot.edge('B', 'C', label='False')\n",
        "dot.edge('C', 'D', label='True')\n",
        "dot.edge('C', 'E', label='False')\n",
        "dot.edge('D', 'F')\n",
        "dot.edge('E', 'F')\n",
        "\n",
        "# Render the graph\n",
        "dot.render('flowchart', format='png')\n",
        "\n",
        "# Display the image in the notebook\n",
        "Image('flowchart.png')"
      ],
      "metadata": {
        "colab": {
          "base_uri": "https://localhost:8080/",
          "height": 542
        },
        "id": "Z5MSGuYXRrcR",
        "outputId": "56c854d6-ccf0-47dc-d6a7-169384385634"
      },
      "execution_count": null,
      "outputs": [
        {
          "output_type": "execute_result",
          "data": {
            "image/png": "[encoded data removed]",
            "text/plain": [
              "<IPython.core.display.Image object>"
            ]
          },
          "metadata": {},
          "execution_count": 15
        }
      ]
    },
    {
      "cell_type": "code",
      "source": [
        "from graphviz import Digraph\n",
        "from IPython.display import Image, display\n",
        "\n",
        "# Create a Digraph object\n",
        "dot = Digraph()\n",
        "\n",
        "# Set the graph attributes\n",
        "dot.attr(size='10,5')  # Increase the width and height of the graph\n",
        "dot.attr(label='Flowchart of Not Equal Statement', fontsize='20', labelloc='t')\n",
        "\n",
        "# Add nodes and edges\n",
        "dot.node('A', 'Start')\n",
        "dot.node('B', 'x != y?')\n",
        "dot.node('C', 'x is not equal to y')\n",
        "dot.node('D', 'x is equal to y')\n",
        "dot.node('E', 'End')\n",
        "\n",
        "dot.edge('A', 'B')\n",
        "dot.edge('B', 'C', label='True')\n",
        "dot.edge('B', 'D', label='False')\n",
        "dot.edge('C', 'E')\n",
        "dot.edge('D', 'E')\n",
        "\n",
        "# Render the graph\n",
        "dot.render('flowchart', format='png')\n",
        "\n",
        "# Display the image in the notebook\n",
        "display(Image('flowchart.png'))\n"
      ],
      "metadata": {
        "colab": {
          "base_uri": "https://localhost:8080/",
          "height": 426
        },
        "id": "JMqB4MOkZ3rX",
        "outputId": "2b2a9913-d97b-4485-f3d0-799150162990"
      },
      "execution_count": null,
      "outputs": [
        {
          "output_type": "display_data",
          "data": {
            "image/png": "[encoded data removed]",
            "text/plain": [
              "<IPython.core.display.Image object>"
            ]
          },
          "metadata": {}
        }
      ]
    },
    {
      "cell_type": "code",
      "source": [
        "# grade.py\n",
        "score = int(input(\"Score: \"))\n",
        "\n",
        "if score >= 90 and score <= 100:\n",
        "  print(\"Grade: A\")\n",
        "elif score >= 80 and score < 90:\n",
        "  print(\"Grade: B\")\n",
        "elif score >= 70 and score < 80:\n",
        "  print(\"Grade: C\")\n",
        "elif score >= 60 and score < 70:\n",
        "  print(\"Grade: D\")\n",
        "else:\n",
        "  print(\"Grade: F\")"
      ],
      "metadata": {
        "id": "FX9EFnSEcRoJ"
      },
      "execution_count": null,
      "outputs": []
    },
    {
      "cell_type": "code",
      "source": [
        "# grade.py\n",
        "score = int(input(\"Score: \"))\n",
        "\n",
        "if 90 <= score <= 100:\n",
        "  print(\"Grade: A\")\n",
        "elif 80 <= score < 90:\n",
        "  print(\"Grade: B\")\n",
        "elif 70 <= score < 80:\n",
        "  print(\"Grade: C\")\n",
        "elif 60 <= score < 70:\n",
        "  print(\"Grade: D\")\n",
        "else:\n",
        "  print(\"Grade: F\")"
      ],
      "metadata": {
        "id": "jP2oRNLmc2vu"
      },
      "execution_count": null,
      "outputs": []
    },
    {
      "cell_type": "code",
      "source": [
        "# grade.py\n",
        "score = int(input(\"Score: \"))\n",
        "\n",
        "if score >= 90:\n",
        "  print(\"Grade: A\")\n",
        "elif score >= 80:\n",
        "  print(\"Grade: B\")\n",
        "elif score >= 70:\n",
        "  print(\"Grade: C\")\n",
        "elif score >= 60:\n",
        "  print(\"Grade: D\")\n",
        "else:\n",
        "  print(\"Grade: F\")"
      ],
      "metadata": {
        "id": "BHmDDjsUeSIy"
      },
      "execution_count": null,
      "outputs": []
    },
    {
      "cell_type": "code",
      "source": [
        "def main():\n",
        "  x = int(input(\"What's x? \"))\n",
        "  if is_even(x):\n",
        "    print(\"Even\")\n",
        "  else:\n",
        "    print(\"Odd\")\n",
        "\n",
        "def is_even(n):\n",
        "  if n % 2 == 0:\n",
        "    return True\n",
        "  else:\n",
        "    return False\n",
        "\n",
        "main()\n"
      ],
      "metadata": {
        "id": "2lnMbqEx1VdO"
      },
      "execution_count": null,
      "outputs": []
    },
    {
      "cell_type": "code",
      "source": [
        "# house.py\n",
        "name = input(\"What's your name? \")\n",
        "\n",
        "if name == \"Harry\":\n",
        "  print(\"Gryffindor\")\n",
        "elif name == \"Hermione\":\n",
        "  print(\"Gryffindor\")\n",
        "elif name == \"Ron\":\n",
        "  print(\"Gryffindor\")\n",
        "elif name == \"Draco\":\n",
        "  print(\"Slytherin\")\n",
        "else:\n",
        "  print(\"Who?\")"
      ],
      "metadata": {
        "id": "6yp6a_Ny5xcR"
      },
      "execution_count": null,
      "outputs": []
    },
    {
      "cell_type": "code",
      "source": [
        "# house.py\n",
        "name = input(\"What's your name? \")\n",
        "\n",
        "if name == \"Harry\" or name == \"Hermione\" or name == \"Ron\":\n",
        "  print(\"Gryffindor\")\n",
        "elif name == \"Draco\":\n",
        "  print(\"Slytherin\")\n",
        "else:\n",
        "  print(\"Who?\")"
      ],
      "metadata": {
        "id": "a7AmOU_X6ERV"
      },
      "execution_count": null,
      "outputs": []
    },
    {
      "cell_type": "code",
      "source": [
        "# house.py\n",
        "name = input(\"What's your name? \")\n",
        "\n",
        "match name:\n",
        "  case \"Harry\":\n",
        "    print(\"Gryffindor\")\n",
        "  case \"Hermione\":\n",
        "    print(\"Gryffindor\")\n",
        "  case \"Ron\":\n",
        "    print(\"Gryffindor\")\n",
        "  case \"Draco\":\n",
        "    print(\"Slytherin\")\n",
        "  case _: # mean to say whatever case has not yet been handled print out \"Who?\"\n",
        "    print(\"Who?\")"
      ],
      "metadata": {
        "id": "_7XrMZNw67ms"
      },
      "execution_count": null,
      "outputs": []
    },
    {
      "cell_type": "code",
      "source": [
        "# house.py\n",
        "name = input(\"What's your name? \")\n",
        "\n",
        "match name:\n",
        "  case \"Harry\" | \"Hermione\" | \"Ron\":\n",
        "    print(\"Gryffindor\")\n",
        "  case \"Draco\":\n",
        "    print(\"Slytherin\")\n",
        "  case _:\n",
        "    print(\"Who?\")"
      ],
      "metadata": {
        "id": "dYWPfaHn6ans"
      },
      "execution_count": null,
      "outputs": []
    }
  ]
}