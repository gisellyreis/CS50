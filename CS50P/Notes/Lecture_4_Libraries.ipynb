{
  "nbformat": 4,
  "nbformat_minor": 0,
  "metadata": {
    "colab": {
      "provenance": [],
      "authorship_tag": "ABX9TyNm8XGJYjuHPP77u8d+hcgc",
      "include_colab_link": true
    },
    "kernelspec": {
      "name": "python3",
      "display_name": "Python 3"
    },
    "language_info": {
      "name": "python"
    }
  },
  "cells": [
    {
      "cell_type": "markdown",
      "metadata": {
        "id": "view-in-github",
        "colab_type": "text"
      },
      "source": [
        "<a href=\"https://colab.research.google.com/github/gisellyreis/CS50/blob/main/CS50P/Notes/Lecture_4_Libraries.ipynb\" target=\"_parent\"><img src=\"https://colab.research.google.com/assets/colab-badge.svg\" alt=\"Open In Colab\"/></a>"
      ]
    },
    {
      "cell_type": "markdown",
      "source": [
        "## Libraries\n",
        "\n",
        "Libraries are generally files of code that other people have written that you can use in your own programs or a library's code that you've written that you can use in your own program, not just this program but another as well.\n",
        "\n",
        "- **modules**: A module in Python i a library that has, typically, one or more functions built into it. The purpose of a library or module is to encourage reusability of code.\n",
        "\n",
        "- **random**: Python comes wit a random library. In this random module, there's one or more functions that you can use in order to do things randmly, like flip a coin or pick a random number.\n",
        "\n",
        "- **import**: keyword in Python used to import the contents of the functions from some module.\n",
        "\n",
        "- **random.choice(seq)**\n",
        "\n",
        "  - random.choice() is how you would call this function.\n",
        "\n",
        "  - seq for sequence is a parameter. A sequence generally means a list of something.\n",
        "\n",
        "  - Let's implement a program that simulates flipping a coin.\n",
        "\n",
        "```\n",
        "import random\n",
        "\n",
        "coin = random.choice([\"heads\", \"tails\"])\n",
        "print(coin)\n",
        "```\n",
        "\n",
        "  - import random: gives access to all of the functions in the random module.\n",
        "\n",
        "  - random.choice([\"heads\", \"tails\"]): mean that we want the program to \"chose\" randomly between a list a options with equal probability. In this case between \"heads\" or \"tails\".\n",
        "\n",
        "- **from**: ia akeyword that you can use when importing functions from a module, but it allows you to be more specific that import alone.\n",
        "\n",
        "```\n",
        "from random import choice\n",
        "\n",
        "coin = choice([\"heads\", \"tails\"])\n",
        "print(coin)\n",
        "```\n",
        "\n",
        "  - from random import choice: it loads the function's name choice into my current namespace into the scope og the file I'm working in. Now it's no longer necessary to specify which choice function I mean.\n",
        "\n",
        "- **random.randint(a, b)**\n",
        "\n",
        "  implies get back a random int between A and B inclusive.\n",
        "\n",
        "- **random.shuffle(x)**\n",
        "\n",
        "  it takes in a list, for instance, of values and shuffles them up (randomizes them).\n",
        "\n",
        "- **statistics**\n",
        "\n",
        " it's a library that contains all sorts of functions for doing things more statistical, namely calculating means or mediand or modes or other aspects of a data set that you might want to analyze.\n",
        "\n",
        "- **mean**\n",
        "\n",
        "  allows you to calculate the average of some numbers that you've passed in.\n",
        "\n",
        "\n",
        "- **command-line arguments**\n",
        "\n",
        "  is a feature that allow you to provide input not when prompted inside of a program, as happens whenever we call input, but rather allows you to provide arguments that is input to the program of just when you're executing at the command line.\n",
        "\n",
        "  When you're running programs in a command-like environment, you can provide any number of words or numbers or phrases after the command that you're typing and all of those will somehow be passed in as inputs to the program.\n",
        "\n",
        "  - **sys**: short for system, contains a lot of functionalities that' specific to yhe system and the commands that you're typing.\n",
        "\n",
        "  - **argv**: ia a variable that stands for argument vector which is a way of describing the list of all of the words that the human typed in at their prompt before they hit Enter.\n",
        "\n",
        "```\n",
        "import sys\n",
        "\n",
        "print(\"hello, my name is\", sys.argv[1])\n",
        "\n",
        ">> python name.py Giselly\n",
        "hello, my name is Giselly\n",
        "```\n",
        "\n",
        "  - **sys.argv[0]** contains the name of the program/file.\n",
        "\n",
        "  - What if the user doesn't pass the name as a argument? There's an example of how to handle that.\n",
        "\n",
        "```\n",
        "import sys\n",
        "\n",
        "if len(sys.argv) < 2:\n",
        "  print(\"Too few arguments\")\n",
        "elif len(sys.argv) > 2:\n",
        "  print(\"Too many arguments\")\n",
        "else:\n",
        "  print(\"hello, my name is\", sys.argv[1])\n",
        "\n",
        "\n",
        "TERMINAL\n",
        ">> python name.py\n",
        "Too few arguments\n",
        ">> python name.py Giselly Reis\n",
        "Too many arguments\n",
        ">> python name.py Giselly\n",
        "hello, my name is Giselly\n",
        "\n",
        ">> python name.py \"Giselly Reis\"\n",
        "hello, my name is Giselly Reis\n",
        "```\n",
        "\n",
        "- One way of doing this separating the error handling from the actual function of the program is as fallows:\n",
        "\n",
        "```\n",
        "import sys\n",
        "\n",
        "# check for errors\n",
        "if len(sys.argv) < 2:\n",
        "  sys.exit(\"Too few arguments\")\n",
        "elif len(sys.argv) > 2:\n",
        "  sys.exit(\"Too many arguments\")\n",
        "\n",
        "# print name tags\n",
        "print(\"hello, my name is\", sys.argv[1])\n",
        "```\n",
        "\n",
        "   - **sys.exit()**: it's going to exit the program without executing the rest, freeing the command line.\n"
      ],
      "metadata": {
        "id": "hY-abafo_F7e"
      }
    },
    {
      "cell_type": "code",
      "execution_count": null,
      "metadata": {
        "id": "XnU6-NYl-5he",
        "colab": {
          "base_uri": "https://localhost:8080/"
        },
        "outputId": "1b374208-1c04-47c0-c8a2-580d19e7f6c9"
      },
      "outputs": [
        {
          "output_type": "stream",
          "name": "stdout",
          "text": [
            "heads\n"
          ]
        }
      ],
      "source": [
        "import random\n",
        "\n",
        "coin = random.choice([\"heads\", \"tails\"])\n",
        "print(coin)"
      ]
    },
    {
      "cell_type": "code",
      "source": [
        "import random\n",
        "\n",
        "number = random.randint(1, 10)\n",
        "print(number)"
      ],
      "metadata": {
        "colab": {
          "base_uri": "https://localhost:8080/"
        },
        "id": "V5GMb53HuS-R",
        "outputId": "f5672816-66e0-4db9-a029-186a13b1f843"
      },
      "execution_count": null,
      "outputs": [
        {
          "output_type": "stream",
          "name": "stdout",
          "text": [
            "5\n"
          ]
        }
      ]
    },
    {
      "cell_type": "code",
      "source": [
        "import random\n",
        "\n",
        "cards = [\"jack\", \"queen\", \"king\"]\n",
        "random.shuffle(cards)\n",
        "\n",
        "for card in cards:\n",
        "  print(card)"
      ],
      "metadata": {
        "id": "jHVWRTyPyflk",
        "colab": {
          "base_uri": "https://localhost:8080/"
        },
        "outputId": "f75252f9-c559-4358-afa2-43c5de1c45e5"
      },
      "execution_count": null,
      "outputs": [
        {
          "output_type": "stream",
          "name": "stdout",
          "text": [
            "jack\n",
            "king\n",
            "queen\n"
          ]
        }
      ]
    },
    {
      "cell_type": "code",
      "source": [
        "import statistics\n",
        "\n",
        "print(statistics.mean([100, 90]))"
      ],
      "metadata": {
        "colab": {
          "base_uri": "https://localhost:8080/"
        },
        "id": "VcUhMp1Jp0da",
        "outputId": "7c22a96d-529b-4388-ca24-4ce80ee373f2"
      },
      "execution_count": 1,
      "outputs": [
        {
          "output_type": "stream",
          "name": "stdout",
          "text": [
            "95\n"
          ]
        }
      ]
    },
    {
      "cell_type": "code",
      "source": [],
      "metadata": {
        "colab": {
          "base_uri": "https://localhost:8080/"
        },
        "id": "2RzC4WgDvBsI",
        "outputId": "2d8cf435-e48b-48a0-ed1a-10a63a7df2ec"
      },
      "execution_count": 2,
      "outputs": [
        {
          "output_type": "stream",
          "name": "stdout",
          "text": [
            "hello, my name is -f\n"
          ]
        }
      ]
    }
  ]
}