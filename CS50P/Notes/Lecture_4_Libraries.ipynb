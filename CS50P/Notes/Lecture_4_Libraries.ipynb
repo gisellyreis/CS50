{
  "nbformat": 4,
  "nbformat_minor": 0,
  "metadata": {
    "colab": {
      "provenance": [],
      "authorship_tag": "ABX9TyM0pqG2ksqEkGQIqATSR67Q",
      "include_colab_link": true
    },
    "kernelspec": {
      "name": "python3",
      "display_name": "Python 3"
    },
    "language_info": {
      "name": "python"
    }
  },
  "cells": [
    {
      "cell_type": "markdown",
      "metadata": {
        "id": "view-in-github",
        "colab_type": "text"
      },
      "source": [
        "<a href=\"https://colab.research.google.com/github/gisellyreis/CS50/blob/main/CS50P/Notes/Lecture_4_Libraries.ipynb\" target=\"_parent\"><img src=\"https://colab.research.google.com/assets/colab-badge.svg\" alt=\"Open In Colab\"/></a>"
      ]
    },
    {
      "cell_type": "markdown",
      "source": [
        "## Libraries\n",
        "\n",
        "Libraries are generally files of code that other people have written that you can use in your own programs or a library's code that you've written that you can use in your own program, not just this program but another as well.\n",
        "\n",
        "- **modules**: A module in Python i a library that has, typically, one or more functions built into it. The purpose of a library or module is to encourage reusability of code.\n",
        "\n",
        "- **random**: Python comes wit a random library. In this random module, there's one or more functions that you can use in order to do things randmly, like flip a coin or pick a random number.\n",
        "\n",
        "- **import**: keyword in Python used to import the contents of the functions from some module.\n",
        "\n",
        "- **random.choice(seq)**\n",
        "\n",
        "  - random.choice() is how you would call this function.\n",
        "\n",
        "  - seq for sequence is a parameter. A sequence generally means a list of something.\n",
        "\n",
        "  - Let's implement a program that simulates flipping a coin.\n",
        "\n",
        "```\n",
        "import random\n",
        "\n",
        "coin = random.choice([\"heads\", \"tails\"])\n",
        "print(coin)\n",
        "```\n",
        "\n",
        "  - import random: gives access to all of the functions in the random module.\n",
        "\n",
        "  - random.choice([\"heads\", \"tails\"]): mean that we want the program to \"chose\" randomly between a list a options with equal probability. In this case between \"heads\" or \"tails\".\n",
        "\n",
        "- **from**: ia akeyword that you can use when importing functions from a module, but it allows you to be more specific that import alone.\n",
        "\n",
        "```\n",
        "from random import choice\n",
        "\n",
        "coin = choice([\"heads\", \"tails\"])\n",
        "print(coin)\n",
        "```\n",
        "\n",
        "  - from random import choice: it loads the function's name choice into my current namespace into the scope og the file I'm working in. Now it's no longer necessary to specify which choice function I mean.\n",
        "\n",
        "- **random.randint(a, b)**\n",
        "\n",
        "  implies get back a random int between A and B inclusive.\n",
        "\n",
        "- **random.shuffle(x)**\n",
        "\n",
        "  it takes in a list, for instance, of values and shuffles them up (randomizes them).\n",
        "\n",
        "\n"
      ],
      "metadata": {
        "id": "hY-abafo_F7e"
      }
    },
    {
      "cell_type": "code",
      "execution_count": null,
      "metadata": {
        "id": "XnU6-NYl-5he",
        "colab": {
          "base_uri": "https://localhost:8080/"
        },
        "outputId": "1b374208-1c04-47c0-c8a2-580d19e7f6c9"
      },
      "outputs": [
        {
          "output_type": "stream",
          "name": "stdout",
          "text": [
            "heads\n"
          ]
        }
      ],
      "source": [
        "import random\n",
        "\n",
        "coin = random.choice([\"heads\", \"tails\"])\n",
        "print(coin)"
      ]
    },
    {
      "cell_type": "code",
      "source": [
        "import random\n",
        "\n",
        "number = random.randint(1, 10)\n",
        "print(number)"
      ],
      "metadata": {
        "colab": {
          "base_uri": "https://localhost:8080/"
        },
        "id": "V5GMb53HuS-R",
        "outputId": "f5672816-66e0-4db9-a029-186a13b1f843"
      },
      "execution_count": null,
      "outputs": [
        {
          "output_type": "stream",
          "name": "stdout",
          "text": [
            "5\n"
          ]
        }
      ]
    },
    {
      "cell_type": "code",
      "source": [
        "import random\n",
        "\n",
        "cards = [\"jack\", \"queen\", \"king\"]\n",
        "random.shuffle(cards)\n",
        "\n",
        "for card in cards:\n",
        "  print(card)"
      ],
      "metadata": {
        "id": "jHVWRTyPyflk",
        "colab": {
          "base_uri": "https://localhost:8080/"
        },
        "outputId": "f75252f9-c559-4358-afa2-43c5de1c45e5"
      },
      "execution_count": 2,
      "outputs": [
        {
          "output_type": "stream",
          "name": "stdout",
          "text": [
            "jack\n",
            "king\n",
            "queen\n"
          ]
        }
      ]
    }
  ]
}