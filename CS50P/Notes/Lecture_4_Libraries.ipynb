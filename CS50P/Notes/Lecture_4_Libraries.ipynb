{
  "nbformat": 4,
  "nbformat_minor": 0,
  "metadata": {
    "colab": {
      "provenance": [],
      "authorship_tag": "ABX9TyPs5vYnGiNOcuWUOZBRlFb8",
      "include_colab_link": true
    },
    "kernelspec": {
      "name": "python3",
      "display_name": "Python 3"
    },
    "language_info": {
      "name": "python"
    }
  },
  "cells": [
    {
      "cell_type": "markdown",
      "metadata": {
        "id": "view-in-github",
        "colab_type": "text"
      },
      "source": [
        "<a href=\"https://colab.research.google.com/github/gisellyreis/CS50/blob/main/CS50P/Notes/Lecture_4_Libraries.ipynb\" target=\"_parent\"><img src=\"https://colab.research.google.com/assets/colab-badge.svg\" alt=\"Open In Colab\"/></a>"
      ]
    },
    {
      "cell_type": "markdown",
      "source": [
        "## Libraries\n",
        "\n",
        "Libraries are generally files of code that other people have written that you can use in your own programs or a library's code that you've written that you can use in your own program, not just this program but another as well.\n",
        "\n"
      ],
      "metadata": {
        "id": "hY-abafo_F7e"
      }
    },
    {
      "cell_type": "code",
      "execution_count": null,
      "metadata": {
        "id": "XnU6-NYl-5he"
      },
      "outputs": [],
      "source": []
    }
  ]
}